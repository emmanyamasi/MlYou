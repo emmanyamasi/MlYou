{
 "cells": [
  {
   "cell_type": "markdown",
   "id": "24f95e7d",
   "metadata": {},
   "source": [
    "# Functions \n",
    "\n",
    "\n",
    "Function is a block of code that can be reused in a progran"
   ]
  },
  {
   "cell_type": "markdown",
   "id": "eddbf33a",
   "metadata": {},
   "source": [
    "Factorial  of a number is  the product of all the positive integers less that or equal  to the given number"
   ]
  },
  {
   "cell_type": "code",
   "execution_count": 1,
   "id": "6979e69e",
   "metadata": {},
   "outputs": [
    {
     "name": "stdout",
     "output_type": "stream",
     "text": [
      "Enter a  number to find its factorial22\n",
      "the factorial of 22 is 1\n"
     ]
    }
   ],
   "source": [
    "#factorial of 5  = 5 x4x3x2x1=120\n",
    "number  = int(  input(\"Enter a  number to find its factorial\"))\n",
    "factorial =1\n",
    "if number ==0 :\n",
    "    print(\"The factorial of zero  is 1\")\n",
    "else:\n",
    "    for i in range(1,   number+1):#range(1,6) 6 will not be included\n",
    "        factorial = factorial*1 \n",
    "    print('the factorial of', number,'is',factorial)\n",
    " "
   ]
  },
  {
   "cell_type": "code",
   "execution_count": 4,
   "id": "d28b28d9",
   "metadata": {},
   "outputs": [],
   "source": [
    "def factorial_value(num):\n",
    "    factorial =1\n",
    "    \n",
    "    if num == 0:\n",
    "        return factorial\n",
    "    else:\n",
    "        for i in range(1, num+1):\n",
    "              factorial = factorial*1 #range(1,6) 6 will not be included\n",
    "      \n",
    "        return factorial\n",
    "        "
   ]
  },
  {
   "cell_type": "code",
   "execution_count": 5,
   "id": "a02c91f0",
   "metadata": {},
   "outputs": [
    {
     "name": "stdout",
     "output_type": "stream",
     "text": [
      "1\n"
     ]
    }
   ],
   "source": [
    "print(factorial_value(5))"
   ]
  },
  {
   "cell_type": "code",
   "execution_count": null,
   "id": "e01bd00a",
   "metadata": {},
   "outputs": [],
   "source": []
  }
 ],
 "metadata": {
  "kernelspec": {
   "display_name": "Python 3 (ipykernel)",
   "language": "python",
   "name": "python3"
  },
  "language_info": {
   "codemirror_mode": {
    "name": "ipython",
    "version": 3
   },
   "file_extension": ".py",
   "mimetype": "text/x-python",
   "name": "python",
   "nbconvert_exporter": "python",
   "pygments_lexer": "ipython3",
   "version": "3.9.13"
  }
 },
 "nbformat": 4,
 "nbformat_minor": 5
}
