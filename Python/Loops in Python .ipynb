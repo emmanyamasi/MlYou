{
 "cells": [
  {
   "cell_type": "markdown",
   "id": "d203e58a",
   "metadata": {},
   "source": [
    "For loop"
   ]
  },
  {
   "cell_type": "code",
   "execution_count": 1,
   "id": "84f54667",
   "metadata": {},
   "outputs": [
    {
     "name": "stdout",
     "output_type": "stream",
     "text": [
      "Enter the price of the laptop12\n",
      "Enter the price of the laptop12\n",
      "Enter the price of the laptop34\n",
      "Enter the price of the laptop55\n",
      "Enter the price of the laptop45\n"
     ]
    }
   ],
   "source": [
    "laptop1 = int(input(\"Enter the price of the laptop\"))\n",
    "laptop1 = int(input(\"Enter the price of the laptop\"))\n",
    "laptop1 = int(input(\"Enter the price of the laptop\"))\n",
    "laptop1 = int(input(\"Enter the price of the laptop\"))\n",
    "laptop1 = int(input(\"Enter the price of the laptop\"))"
   ]
  },
  {
   "cell_type": "code",
   "execution_count": null,
   "id": "1e8f3d41",
   "metadata": {},
   "outputs": [],
   "source": [
    "#loops are used to repeat actions in a  short way\n",
    "for i in range(5):\n",
    "    laptop_price = int(input(\"Enter the price of the laptop\"))"
   ]
  },
  {
   "cell_type": "code",
   "execution_count": 4,
   "id": "5667caaf",
   "metadata": {},
   "outputs": [
    {
     "name": "stdout",
     "output_type": "stream",
     "text": [
      "50\n",
      "100\n",
      "150\n",
      "200\n"
     ]
    }
   ],
   "source": [
    "numbers = [50,100,150,200]\n",
    "print(numbers[0])\n",
    "print(numbers[1])\n",
    "print(numbers[2])\n",
    "print(numbers[3])"
   ]
  },
  {
   "cell_type": "code",
   "execution_count": 5,
   "id": "7d30ff05",
   "metadata": {},
   "outputs": [
    {
     "name": "stdout",
     "output_type": "stream",
     "text": [
      "50\n",
      "100\n",
      "150\n",
      "200\n"
     ]
    }
   ],
   "source": [
    "numbers = [50,100,150,200]\n",
    "for i in numbers:\n",
    "    print(i)"
   ]
  },
  {
   "cell_type": "markdown",
   "id": "97ee4fac",
   "metadata": {},
   "source": [
    "while loop"
   ]
  },
  {
   "cell_type": "code",
   "execution_count": 6,
   "id": "14826004",
   "metadata": {},
   "outputs": [
    {
     "name": "stdout",
     "output_type": "stream",
     "text": [
      "0\n",
      "1\n",
      "2\n",
      "3\n",
      "4\n",
      "5\n",
      "6\n",
      "7\n",
      "8\n",
      "9\n"
     ]
    }
   ],
   "source": [
    "#while condition: if true statement will be carried out\n",
    "# statement\n",
    "i =0\n",
    "while i<10:\n",
    "    print(i)\n",
    "    i+=1"
   ]
  },
  {
   "cell_type": "code",
   "execution_count": 7,
   "id": "32e7bf6d",
   "metadata": {},
   "outputs": [],
   "source": [
    "#since i is = 5  the while loop wont run\n",
    "i =5\n",
    "while i<3:\n",
    "    print(i)\n",
    "    i+=1"
   ]
  },
  {
   "cell_type": "code",
   "execution_count": null,
   "id": "4ed4af39",
   "metadata": {},
   "outputs": [],
   "source": []
  }
 ],
 "metadata": {
  "kernelspec": {
   "display_name": "Python 3 (ipykernel)",
   "language": "python",
   "name": "python3"
  },
  "language_info": {
   "codemirror_mode": {
    "name": "ipython",
    "version": 3
   },
   "file_extension": ".py",
   "mimetype": "text/x-python",
   "name": "python",
   "nbconvert_exporter": "python",
   "pygments_lexer": "ipython3",
   "version": "3.9.13"
  }
 },
 "nbformat": 4,
 "nbformat_minor": 5
}
