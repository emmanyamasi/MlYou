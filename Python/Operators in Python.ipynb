{
 "cells": [
  {
   "cell_type": "markdown",
   "id": "4617fde7",
   "metadata": {},
   "source": [
    "# Operators in Python:\n",
    "1.Arithmetic Operators\n",
    "\n",
    "2.Assignment Operators\n",
    "\n",
    "3.Comparision  Operators\n",
    "\n",
    "4.Logical Operators\n",
    "\n",
    "5.Identity Operators\n",
    "\n",
    "6.Membership Operators\n"
   ]
  },
  {
   "cell_type": "markdown",
   "id": "d1c23915",
   "metadata": {},
   "source": [
    ".Arithmetic Operators"
   ]
  },
  {
   "cell_type": "code",
   "execution_count": 8,
   "id": "89461126",
   "metadata": {},
   "outputs": [
    {
     "name": "stdout",
     "output_type": "stream",
     "text": [
      "sum 46\n",
      "difference 0\n",
      "produ 529\n",
      "division 1.0\n",
      "exponent 20880467999847912034355032910567\n",
      "reminder 0\n"
     ]
    }
   ],
   "source": [
    "#are the basic mathematical operations that we can perform on integers and float s\n",
    "num_1 =23\n",
    "num_2 =23\n",
    "\n",
    "\n",
    "#addition\n",
    "sum = num_1+num_2\n",
    "print(\"sum\" , sum)\n",
    "\n",
    "#substraction\n",
    "diff =num_1 - num_2\n",
    "print(\"difference\", diff)\n",
    "\n",
    "#multiply\n",
    "pro =num_1 *num_2\n",
    "print(\"produ\", pro)\n",
    "\n",
    "\n",
    "#division\n",
    "quo =num_1/num_2\n",
    "print(\"division\",quo)\n",
    "\n",
    "#exponennt\n",
    "exp = num_1**num_2 #23power23\n",
    "print(\"exponent\", exp)\n",
    "\n",
    "#modulous\n",
    "mod = num_1 %  num_2\n",
    "print(\"reminder\" , mod)\n",
    "      \n",
    "      \n"
   ]
  },
  {
   "cell_type": "markdown",
   "id": "295a9d3e",
   "metadata": {},
   "source": [
    "2.Assignment Operators\n",
    "\n",
    "\n",
    "+=\n",
    "\n",
    "-=\n",
    "\n",
    "**=\n",
    "\n",
    "/=\n",
    "\n",
    "%="
   ]
  },
  {
   "cell_type": "code",
   "execution_count": 9,
   "id": "64e32ff9",
   "metadata": {},
   "outputs": [
    {
     "name": "stdout",
     "output_type": "stream",
     "text": [
      "5\n"
     ]
    }
   ],
   "source": [
    "#we are assinging 5 to a\n",
    "a = 5\n",
    "print(a)"
   ]
  },
  {
   "cell_type": "code",
   "execution_count": 10,
   "id": "a0d0e98a",
   "metadata": {},
   "outputs": [
    {
     "name": "stdout",
     "output_type": "stream",
     "text": [
      "10\n"
     ]
    }
   ],
   "source": [
    "a =5\n",
    "a += 5 #a =a+5\n",
    "print(a)"
   ]
  },
  {
   "cell_type": "code",
   "execution_count": 12,
   "id": "eb56d9d7",
   "metadata": {},
   "outputs": [
    {
     "name": "stdout",
     "output_type": "stream",
     "text": [
      "0\n"
     ]
    }
   ],
   "source": [
    "b=5\n",
    "b -= 5 #b =b-5\n",
    "print(b)"
   ]
  },
  {
   "cell_type": "markdown",
   "id": "96112418",
   "metadata": {},
   "source": [
    "3.comparision operators -compares 2 objects"
   ]
  },
  {
   "cell_type": "code",
   "execution_count": 13,
   "id": "4bea24c0",
   "metadata": {},
   "outputs": [
    {
     "name": "stdout",
     "output_type": "stream",
     "text": [
      "False\n",
      "True\n",
      "False\n",
      "True\n",
      "True\n",
      "False\n"
     ]
    }
   ],
   "source": [
    "a =5\n",
    "b =10\n",
    "#checks whether a =b\n",
    "print(a == b)\n",
    "#checks that a is not =b\n",
    "print(a!=b)\n",
    "#greater than\n",
    "print(a>b)\n",
    "#less than\n",
    "print(a<b)\n",
    "#less than or equal to\n",
    "print(a<=b)\n",
    "#greater than or equal to\n",
    "print(a>=b)"
   ]
  },
  {
   "cell_type": "markdown",
   "id": "1885b15f",
   "metadata": {},
   "source": [
    "4.Logical Operators\n",
    "\n",
    "and\n",
    "\n",
    "or\n",
    "\n",
    "not"
   ]
  },
  {
   "cell_type": "code",
   "execution_count": 15,
   "id": "c8cec5bb",
   "metadata": {},
   "outputs": [
    {
     "name": "stdout",
     "output_type": "stream",
     "text": [
      "False\n",
      "False\n",
      "False\n"
     ]
    }
   ],
   "source": [
    "#and gives true if both conditions are true\n",
    "a =10\n",
    "print(a> 20 and a<5)\n",
    "#or gives true if either conditions is true\n",
    "print(a> 20 or a<5)\n",
    "#not converts the output to be false\n",
    "print (not(a>8 and a>5))\n",
    "\n"
   ]
  },
  {
   "cell_type": "markdown",
   "id": "217ddf24",
   "metadata": {},
   "source": [
    "5.Identity Operators\n",
    "\n",
    "is\n",
    "\n",
    "is not"
   ]
  },
  {
   "cell_type": "code",
   "execution_count": 17,
   "id": "e40c8ad4",
   "metadata": {},
   "outputs": [
    {
     "name": "stdout",
     "output_type": "stream",
     "text": [
      "True\n"
     ]
    }
   ],
   "source": [
    "#checks whether the 2 values are same and gives boolean answer\n",
    "x= 5\n",
    "y =5\n",
    "print(x is y)"
   ]
  },
  {
   "cell_type": "code",
   "execution_count": 18,
   "id": "1b214121",
   "metadata": {},
   "outputs": [
    {
     "name": "stdout",
     "output_type": "stream",
     "text": [
      "False\n"
     ]
    }
   ],
   "source": [
    "x= 5\n",
    "y =3\n",
    "print(x is y)"
   ]
  },
  {
   "cell_type": "code",
   "execution_count": 19,
   "id": "d050e92d",
   "metadata": {},
   "outputs": [
    {
     "name": "stdout",
     "output_type": "stream",
     "text": [
      "False\n"
     ]
    }
   ],
   "source": [
    "#checks whether the 2 values are not same and gives boolean answer\n",
    "x= 5\n",
    "y =5\n",
    "print(x is not y)"
   ]
  },
  {
   "cell_type": "code",
   "execution_count": 20,
   "id": "8cf6a20d",
   "metadata": {},
   "outputs": [
    {
     "name": "stdout",
     "output_type": "stream",
     "text": [
      "True\n"
     ]
    }
   ],
   "source": [
    "x= 5\n",
    "y =3\n",
    "print(x is not y)"
   ]
  },
  {
   "cell_type": "markdown",
   "id": "a39d9b29",
   "metadata": {},
   "source": [
    "6.Membership Operator\n",
    "\n",
    "in\n",
    "\n",
    "not in"
   ]
  },
  {
   "cell_type": "code",
   "execution_count": 21,
   "id": "256224f4",
   "metadata": {},
   "outputs": [
    {
     "name": "stdout",
     "output_type": "stream",
     "text": [
      "True\n",
      "False\n"
     ]
    }
   ],
   "source": [
    "#checks whether a particular value belongs to a sequence of groups\n",
    "\n",
    "a =5\n",
    "b = 10\n",
    "\n",
    "c =[1,2,3,4,5]\n",
    "print(a in c)# outputs true\n",
    "print(b in c)#ouputs false"
   ]
  },
  {
   "cell_type": "code",
   "execution_count": 22,
   "id": "1697eb96",
   "metadata": {},
   "outputs": [
    {
     "name": "stdout",
     "output_type": "stream",
     "text": [
      "False\n",
      "True\n"
     ]
    }
   ],
   "source": [
    "a =5\n",
    "b = 10\n",
    "\n",
    "c =[1,2,3,4,5]\n",
    "print(a not in c)# outputs false\n",
    "print(b not in c)#ouputs true"
   ]
  },
  {
   "cell_type": "code",
   "execution_count": null,
   "id": "051b60c6",
   "metadata": {},
   "outputs": [],
   "source": []
  }
 ],
 "metadata": {
  "kernelspec": {
   "display_name": "Python 3 (ipykernel)",
   "language": "python",
   "name": "python3"
  },
  "language_info": {
   "codemirror_mode": {
    "name": "ipython",
    "version": 3
   },
   "file_extension": ".py",
   "mimetype": "text/x-python",
   "name": "python",
   "nbconvert_exporter": "python",
   "pygments_lexer": "ipython3",
   "version": "3.9.13"
  }
 },
 "nbformat": 4,
 "nbformat_minor": 5
}
