{
 "cells": [
  {
   "cell_type": "markdown",
   "id": "3de3c6d5",
   "metadata": {},
   "source": [
    "Simple if statment"
   ]
  },
  {
   "cell_type": "code",
   "execution_count": 1,
   "id": "b6bc0933",
   "metadata": {},
   "outputs": [
    {
     "name": "stdout",
     "output_type": "stream",
     "text": [
      "a is greater\n"
     ]
    }
   ],
   "source": [
    "a  = 15\n",
    "b = 5\n",
    "\n",
    "if (a > b):\n",
    "    print('a is greater')\n",
    "else:\n",
    "    print('b is greater')"
   ]
  },
  {
   "cell_type": "code",
   "execution_count": 2,
   "id": "0ba9d210",
   "metadata": {},
   "outputs": [
    {
     "name": "stdout",
     "output_type": "stream",
     "text": [
      "Enter the first number23\n",
      "Enter the seconf number21\n",
      "a is greater\n"
     ]
    }
   ],
   "source": [
    "a = int(input('Enter the first number'))\n",
    "b = int(input('Enter the seconf number'))\n",
    "if (a > b):\n",
    "    print('a is greater')\n",
    "else:\n",
    "    print('b is greater')"
   ]
  },
  {
   "cell_type": "markdown",
   "id": "c7bcb0bc",
   "metadata": {},
   "source": [
    "if  elif else statement"
   ]
  },
  {
   "cell_type": "code",
   "execution_count": 3,
   "id": "4410cf82",
   "metadata": {},
   "outputs": [
    {
     "name": "stdout",
     "output_type": "stream",
     "text": [
      "c is greater\n"
     ]
    }
   ],
   "source": [
    "a = 15\n",
    "b = 25\n",
    "c = 30\n",
    "\n",
    "if (b>a>c):\n",
    "    print('a is greater')\n",
    "elif(a>b>c):\n",
    "    print(\"b is greater\")\n",
    "else:\n",
    "    print(\"c is greater\")"
   ]
  },
  {
   "cell_type": "markdown",
   "id": "490fed1b",
   "metadata": {},
   "source": [
    "nested if statement"
   ]
  },
  {
   "cell_type": "code",
   "execution_count": 4,
   "id": "881cda4a",
   "metadata": {},
   "outputs": [
    {
     "name": "stdout",
     "output_type": "stream",
     "text": [
      "c is greater\n"
     ]
    }
   ],
   "source": [
    "a = 20\n",
    "b = 40\n",
    "c = 60\n",
    "\n",
    "if (a>b ):\n",
    "    if(a>c):\n",
    "        print('a is greater')\n",
    "    else:\n",
    "        print('c is greater')\n",
    "        \n",
    "else:\n",
    "    if (b>c):\n",
    "        print('b is greater')\n",
    "    else:\n",
    "        print('c is greater')"
   ]
  },
  {
   "cell_type": "code",
   "execution_count": null,
   "id": "001b42a8",
   "metadata": {},
   "outputs": [],
   "source": []
  }
 ],
 "metadata": {
  "kernelspec": {
   "display_name": "Python 3 (ipykernel)",
   "language": "python",
   "name": "python3"
  },
  "language_info": {
   "codemirror_mode": {
    "name": "ipython",
    "version": 3
   },
   "file_extension": ".py",
   "mimetype": "text/x-python",
   "name": "python",
   "nbconvert_exporter": "python",
   "pygments_lexer": "ipython3",
   "version": "3.9.13"
  }
 },
 "nbformat": 4,
 "nbformat_minor": 5
}
