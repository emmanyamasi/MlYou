{
 "cells": [
  {
   "cell_type": "markdown",
   "id": "109fd518",
   "metadata": {},
   "source": [
    "# Types of Objects in Python\n",
    "1.Immutable Objects\n",
    "\n",
    "2.Mutable Objects"
   ]
  },
  {
   "cell_type": "markdown",
   "id": "979518df",
   "metadata": {},
   "source": [
    "# Immutable Objects-those whose value cannot be changed once created\n",
    "1.int\n",
    "\n",
    "2.float\n",
    "\n",
    "3.string\n",
    "\n",
    "4.bool\n",
    "\n",
    "5.tuple"
   ]
  },
  {
   "cell_type": "markdown",
   "id": "a9f7121d",
   "metadata": {},
   "source": [
    "# Mutable Objects - those whose values can be changed once created\n",
    "1.List\n",
    "\n",
    "2.Set\n",
    "\n",
    "3.Dictionary"
   ]
  },
  {
   "cell_type": "markdown",
   "id": "9b326624",
   "metadata": {},
   "source": [
    "List"
   ]
  },
  {
   "cell_type": "code",
   "execution_count": 4,
   "id": "6f7c7985",
   "metadata": {},
   "outputs": [
    {
     "name": "stdout",
     "output_type": "stream",
     "text": [
      "[1, 2, 3, 4, 5]\n"
     ]
    },
    {
     "data": {
      "text/plain": [
       "list"
      ]
     },
     "execution_count": 4,
     "metadata": {},
     "output_type": "execute_result"
    }
   ],
   "source": [
    "#are enclosed inn square brackets-array\n",
    "my_list =[1,2,3,4,5]\n",
    "print(my_list)\n",
    "type(my_list)"
   ]
  },
  {
   "cell_type": "code",
   "execution_count": 5,
   "id": "ba360c6d",
   "metadata": {},
   "outputs": [
    {
     "name": "stdout",
     "output_type": "stream",
     "text": [
      "[2, 3, 3.3, 'English', True]\n"
     ]
    }
   ],
   "source": [
    "#lists can have multiple datatypes \n",
    "my_list=[2,3,3.3,\"English\" ,True]\n",
    "print(my_list)"
   ]
  },
  {
   "cell_type": "code",
   "execution_count": 6,
   "id": "718b9b12",
   "metadata": {},
   "outputs": [
    {
     "name": "stdout",
     "output_type": "stream",
     "text": [
      "[2, 3, 3.3, 'English', True, 6]\n"
     ]
    }
   ],
   "source": [
    "#lists are mutable\n",
    "#adding elements to a list\n",
    "my_list=[2,3,3.3,\"English\" ,True]\n",
    "my_list.append(6)\n",
    "print(my_list)"
   ]
  },
  {
   "cell_type": "code",
   "execution_count": 7,
   "id": "7622676f",
   "metadata": {},
   "outputs": [
    {
     "name": "stdout",
     "output_type": "stream",
     "text": [
      "3.3\n",
      "2\n"
     ]
    }
   ],
   "source": [
    "#printing elements of a list using their index\n",
    "print(my_list[2])\n",
    "print(my_list[0])"
   ]
  },
  {
   "cell_type": "code",
   "execution_count": 8,
   "id": "080e6a39",
   "metadata": {},
   "outputs": [
    {
     "name": "stdout",
     "output_type": "stream",
     "text": [
      "[1, 2, 3, 4, 5, 1, 2, 3]\n"
     ]
    }
   ],
   "source": [
    "#lists allow duplicate values\n",
    "list_1=[1,2,3,4,5,1,2,3]\n",
    "print(list_1)\n"
   ]
  },
  {
   "cell_type": "code",
   "execution_count": 9,
   "id": "f5757815",
   "metadata": {},
   "outputs": [
    {
     "name": "stdout",
     "output_type": "stream",
     "text": [
      "8\n"
     ]
    }
   ],
   "source": [
    "#check size of list\n",
    "print(len(list_1))"
   ]
  },
  {
   "cell_type": "code",
   "execution_count": 10,
   "id": "f96b30a1",
   "metadata": {},
   "outputs": [
    {
     "name": "stdout",
     "output_type": "stream",
     "text": [
      "[]\n"
     ]
    }
   ],
   "source": [
    "#initiating an empty list\n",
    "list_2 =[]\n",
    "print(list_2)"
   ]
  },
  {
   "cell_type": "code",
   "execution_count": 12,
   "id": "d8a67658",
   "metadata": {},
   "outputs": [
    {
     "name": "stdout",
     "output_type": "stream",
     "text": [
      "[5, 5]\n"
     ]
    }
   ],
   "source": [
    "list_2.append(5)\n",
    "print(list_2)"
   ]
  },
  {
   "cell_type": "code",
   "execution_count": 15,
   "id": "60d5974f",
   "metadata": {},
   "outputs": [
    {
     "name": "stdout",
     "output_type": "stream",
     "text": [
      "[2, 3, 3.3, 'English', True, 6]\n",
      "[2, 3, 'English', True, 6]\n"
     ]
    }
   ],
   "source": [
    "#delete items in a list\n",
    "list_2 =[2, 3, 3.3, 'English', True, 6]\n",
    "print(list_2)\n",
    "del list_2[2]\n",
    "print(list_2)"
   ]
  },
  {
   "cell_type": "code",
   "execution_count": 17,
   "id": "f4fbf5fc",
   "metadata": {},
   "outputs": [
    {
     "name": "stdout",
     "output_type": "stream",
     "text": [
      "[2, 3, 3, 3, 4, 4, 5, 3, 5, 2]\n"
     ]
    }
   ],
   "source": [
    "#joining 2 lists\n",
    "list_3 =[2,3,3,3,4,4,5]\n",
    "list_4 =[3,5,2]\n",
    "list_5 =list_3 + list_4\n",
    "print(list_5)"
   ]
  },
  {
   "cell_type": "markdown",
   "id": "fcb9e26e",
   "metadata": {},
   "source": [
    "Tuple\n",
    "tuples are immutable"
   ]
  },
  {
   "cell_type": "code",
   "execution_count": 18,
   "id": "8b3f424b",
   "metadata": {},
   "outputs": [
    {
     "name": "stdout",
     "output_type": "stream",
     "text": [
      "(1, 3, 4, 34, 5)\n"
     ]
    },
    {
     "data": {
      "text/plain": [
       "tuple"
      ]
     },
     "execution_count": 18,
     "metadata": {},
     "output_type": "execute_result"
    }
   ],
   "source": [
    "\n",
    "#enclosed in brackets()\n",
    "tuple_1 =(1,3,4,34,5)\n",
    "print(tuple_1)\n",
    "type(tuple_1)"
   ]
  },
  {
   "cell_type": "code",
   "execution_count": 19,
   "id": "36076b28",
   "metadata": {},
   "outputs": [
    {
     "name": "stdout",
     "output_type": "stream",
     "text": [
      "(2, 45, 46.4, 'machines', False)\n"
     ]
    }
   ],
   "source": [
    "#allow multiple data types in a single tuple\n",
    "tuple_2 =(2,45,46.4,\"machines\",False)\n",
    "print(tuple_2)\n"
   ]
  },
  {
   "cell_type": "code",
   "execution_count": 20,
   "id": "0259e12a",
   "metadata": {},
   "outputs": [
    {
     "name": "stdout",
     "output_type": "stream",
     "text": [
      "[3, 4, 5, 6]\n",
      "(3, 4, 5, 6)\n"
     ]
    }
   ],
   "source": [
    "#converting a list to a tuple\n",
    "my_list =[3,4,5,6]\n",
    "print(my_list)\n",
    "my_tuple =tuple(my_list)\n",
    "print(my_tuple)"
   ]
  },
  {
   "cell_type": "code",
   "execution_count": 21,
   "id": "2066e6c5",
   "metadata": {},
   "outputs": [
    {
     "name": "stdout",
     "output_type": "stream",
     "text": [
      "3\n",
      "5\n"
     ]
    }
   ],
   "source": [
    "print(my_tuple[0])\n",
    "print(my_tuple[2])"
   ]
  },
  {
   "cell_type": "code",
   "execution_count": 23,
   "id": "f2582cba",
   "metadata": {},
   "outputs": [],
   "source": [
    "#immutable\n",
    "#my_tuple.append(0) will throw an error sinc tuples cannot be changed"
   ]
  },
  {
   "cell_type": "code",
   "execution_count": 24,
   "id": "8d4f99c0",
   "metadata": {},
   "outputs": [
    {
     "name": "stdout",
     "output_type": "stream",
     "text": [
      "4\n"
     ]
    }
   ],
   "source": [
    "print(len(my_tuple))"
   ]
  },
  {
   "cell_type": "markdown",
   "id": "2e7ad7e6",
   "metadata": {},
   "source": [
    "Set"
   ]
  },
  {
   "cell_type": "code",
   "execution_count": 25,
   "id": "c7d01cdf",
   "metadata": {},
   "outputs": [
    {
     "name": "stdout",
     "output_type": "stream",
     "text": [
      "{56, 2, 34, 4}\n"
     ]
    },
    {
     "data": {
      "text/plain": [
       "set"
      ]
     },
     "execution_count": 25,
     "metadata": {},
     "output_type": "execute_result"
    }
   ],
   "source": [
    "#enclosed in curly brackets{}\n",
    "my_set ={2,34,4,56}\n",
    "print(my_set)\n",
    "type(my_set)"
   ]
  },
  {
   "cell_type": "code",
   "execution_count": 27,
   "id": "2f191a7c",
   "metadata": {},
   "outputs": [],
   "source": [
    "#set does not support indexing\n",
    "#print(my_set[0])error"
   ]
  },
  {
   "cell_type": "code",
   "execution_count": 28,
   "id": "f3d50bff",
   "metadata": {},
   "outputs": [
    {
     "name": "stdout",
     "output_type": "stream",
     "text": [
      "{3, 4, 5, 6}\n"
     ]
    }
   ],
   "source": [
    "#converting list to a set\n",
    "list_5 =[3,4,5,6,5,6,6]\n",
    "x =set(list_5)\n",
    "print(x)\n"
   ]
  },
  {
   "cell_type": "code",
   "execution_count": 29,
   "id": "7020bd64",
   "metadata": {},
   "outputs": [
    {
     "name": "stdout",
     "output_type": "stream",
     "text": [
      "{2, 4, 5, 7, 8, 9}\n"
     ]
    }
   ],
   "source": [
    "#set doesnot allow duplicate values- the dupliccate values are not repeated\n",
    "set_3 ={2,4,5,7,8,9,2,4}\n",
    "print(set_3)"
   ]
  },
  {
   "cell_type": "markdown",
   "id": "c880dcc6",
   "metadata": {},
   "source": [
    "Dictionary\n",
    "kEY-VALUE pair\n",
    "uses{}curly brackets"
   ]
  },
  {
   "cell_type": "code",
   "execution_count": 33,
   "id": "693ecd48",
   "metadata": {},
   "outputs": [
    {
     "name": "stdout",
     "output_type": "stream",
     "text": [
      "{'name': 'DAVID', 'AGE': 30, 'COUNTY': 'NYERI'}\n"
     ]
    },
    {
     "data": {
      "text/plain": [
       "dict"
      ]
     },
     "execution_count": 33,
     "metadata": {},
     "output_type": "execute_result"
    }
   ],
   "source": [
    "#NAME,AGE ,COUNTY are keys ,,DAVID,30,NYERI are values\n",
    "my_dictionary ={\"name\" : \"DAVID\",\"AGE\":30,\"COUNTY\":\"NYERI\"}\n",
    "print(my_dictionary)\n",
    "type(my_dictionary)"
   ]
  },
  {
   "cell_type": "code",
   "execution_count": 35,
   "id": "42158866",
   "metadata": {},
   "outputs": [
    {
     "name": "stdout",
     "output_type": "stream",
     "text": [
      "DAVID\n",
      "30\n"
     ]
    }
   ],
   "source": [
    "#to print mention the key\n",
    "print(my_dictionary['name'])\n",
    "print(my_dictionary['AGE'])\n"
   ]
  },
  {
   "cell_type": "code",
   "execution_count": 40,
   "id": "50d621c1",
   "metadata": {},
   "outputs": [
    {
     "name": "stdout",
     "output_type": "stream",
     "text": [
      "{'name': 'DAVID', 'AGE': 30, 'COUNTY': 'NYERI'}\n"
     ]
    }
   ],
   "source": [
    "#donot allow duplicate values\n",
    "dictionary_2 ={\"name\" : \"DAVID\",\"AGE\":30,\"COUNTY\":\"NYERI\",\"name\" : \"DAVID\",\"AGE\":30,\"COUNTY\":\"NYERI\"}\n",
    "print(dictionary_2)\n",
    "#only one  output despite repeating it\n"
   ]
  },
  {
   "cell_type": "code",
   "execution_count": null,
   "id": "78348263",
   "metadata": {},
   "outputs": [],
   "source": []
  },
  {
   "cell_type": "code",
   "execution_count": null,
   "id": "1c496b7f",
   "metadata": {},
   "outputs": [],
   "source": []
  }
 ],
 "metadata": {
  "kernelspec": {
   "display_name": "Python 3 (ipykernel)",
   "language": "python",
   "name": "python3"
  },
  "language_info": {
   "codemirror_mode": {
    "name": "ipython",
    "version": 3
   },
   "file_extension": ".py",
   "mimetype": "text/x-python",
   "name": "python",
   "nbconvert_exporter": "python",
   "pygments_lexer": "ipython3",
   "version": "3.9.13"
  }
 },
 "nbformat": 4,
 "nbformat_minor": 5
}
