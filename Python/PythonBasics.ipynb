{
  "nbformat": 4,
  "nbformat_minor": 0,
  "metadata": {
    "colab": {
      "provenance": []
    },
    "kernelspec": {
      "name": "python3",
      "display_name": "Python 3"
    },
    "language_info": {
      "name": "python"
    }
  },
  "cells": [
    {
      "cell_type": "markdown",
      "source": [
        "# Programming Languages used for Machine Learning\n",
        "\n",
        "1.Python\n",
        "\n",
        "\n",
        "2.R\n",
        "\n"
      ],
      "metadata": {
        "id": "zVFitlg1sQz3"
      }
    },
    {
      "cell_type": "markdown",
      "source": [
        "#print function"
      ],
      "metadata": {
        "id": "8csnbZKQtZpG"
      }
    },
    {
      "cell_type": "code",
      "source": [
        "print(\"Machine Learning\")"
      ],
      "metadata": {
        "colab": {
          "base_uri": "https://localhost:8080/"
        },
        "id": "QH0u_-jFssIg",
        "outputId": "1d9f9f86-e5b6-40bb-814c-d5d5e41a63bd"
      },
      "execution_count": null,
      "outputs": [
        {
          "output_type": "stream",
          "name": "stdout",
          "text": [
            "Machine Learning\n"
          ]
        }
      ]
    },
    {
      "cell_type": "code",
      "source": [
        "print(\"machine learning\" + \" projects\")"
      ],
      "metadata": {
        "colab": {
          "base_uri": "https://localhost:8080/"
        },
        "id": "2cXdvbpstzNT",
        "outputId": "40dea017-8a47-4a79-c233-2118cd576f27"
      },
      "execution_count": null,
      "outputs": [
        {
          "output_type": "stream",
          "name": "stdout",
          "text": [
            "machine learning projects\n"
          ]
        }
      ]
    },
    {
      "cell_type": "code",
      "source": [
        "print(8)"
      ],
      "metadata": {
        "colab": {
          "base_uri": "https://localhost:8080/"
        },
        "id": "FB-44svwuDmr",
        "outputId": "9207e4d9-9a04-4cc5-9b0f-b1968c017abd"
      },
      "execution_count": null,
      "outputs": [
        {
          "output_type": "stream",
          "name": "stdout",
          "text": [
            "8\n"
          ]
        }
      ]
    },
    {
      "cell_type": "code",
      "source": [
        "print(8+9)"
      ],
      "metadata": {
        "colab": {
          "base_uri": "https://localhost:8080/"
        },
        "id": "zU7rkFdXuLqt",
        "outputId": "652d8f2d-8f76-4815-b9fb-50c991dec9b2"
      },
      "execution_count": null,
      "outputs": [
        {
          "output_type": "stream",
          "name": "stdout",
          "text": [
            "17\n"
          ]
        }
      ]
    },
    {
      "cell_type": "markdown",
      "source": [
        "#Basic Data Types:\n",
        "1. int\n",
        "2. float\n",
        "3. str"
      ],
      "metadata": {
        "id": "YHif7enPupmO"
      }
    },
    {
      "cell_type": "code",
      "source": [
        "type(2)"
      ],
      "metadata": {
        "colab": {
          "base_uri": "https://localhost:8080/"
        },
        "id": "KvJIyWhhu7Qs",
        "outputId": "591decb6-26e2-4a16-8dce-80d3e8bedb23"
      },
      "execution_count": null,
      "outputs": [
        {
          "output_type": "execute_result",
          "data": {
            "text/plain": [
              "int"
            ]
          },
          "metadata": {},
          "execution_count": 6
        }
      ]
    },
    {
      "cell_type": "code",
      "source": [
        "type(1.3)"
      ],
      "metadata": {
        "colab": {
          "base_uri": "https://localhost:8080/"
        },
        "id": "ZxyGasdovRsP",
        "outputId": "d3e1a5dc-dd52-49e0-e860-77941c3b0086"
      },
      "execution_count": null,
      "outputs": [
        {
          "output_type": "execute_result",
          "data": {
            "text/plain": [
              "float"
            ]
          },
          "metadata": {},
          "execution_count": 7
        }
      ]
    },
    {
      "cell_type": "code",
      "source": [
        "type(\"hello\")"
      ],
      "metadata": {
        "colab": {
          "base_uri": "https://localhost:8080/"
        },
        "id": "KXxfCDPyvVBm",
        "outputId": "4829141f-cc07-417a-c192-c9eda156c4f6"
      },
      "execution_count": null,
      "outputs": [
        {
          "output_type": "execute_result",
          "data": {
            "text/plain": [
              "str"
            ]
          },
          "metadata": {},
          "execution_count": 8
        }
      ]
    },
    {
      "cell_type": "markdown",
      "source": [
        "#Constants and Variables"
      ],
      "metadata": {
        "id": "Ku21GD5MvmY1"
      }
    },
    {
      "cell_type": "code",
      "source": [
        "superhero = \"iron man\"\n",
        "print(superhero)\n",
        "#variables are single words"
      ],
      "metadata": {
        "colab": {
          "base_uri": "https://localhost:8080/"
        },
        "id": "__xxMNGvvXAX",
        "outputId": "aa68c2b5-4bee-4a4d-e4ef-0436115b9e39"
      },
      "execution_count": null,
      "outputs": [
        {
          "output_type": "stream",
          "name": "stdout",
          "text": [
            "iron man\n"
          ]
        }
      ]
    },
    {
      "cell_type": "code",
      "source": [
        "superhero =\"thor\"\n",
        "print(superhero)\n",
        "#we can change the values of variables"
      ],
      "metadata": {
        "colab": {
          "base_uri": "https://localhost:8080/"
        },
        "id": "IHUR3MaxwHYZ",
        "outputId": "b2061a44-c987-476e-eba1-221f795f43c1"
      },
      "execution_count": null,
      "outputs": [
        {
          "output_type": "stream",
          "name": "stdout",
          "text": [
            "thor\n"
          ]
        }
      ]
    },
    {
      "cell_type": "code",
      "source": [
        "hero1,hero2,hero3 =\"iron man\",\"thor\",\"hulk\"\n",
        "print(hero1)\n",
        "print(hero2)\n",
        "print(hero3)"
      ],
      "metadata": {
        "colab": {
          "base_uri": "https://localhost:8080/"
        },
        "id": "zynTytAfxH53",
        "outputId": "89f583dc-4103-4fc9-8f2c-350706910349"
      },
      "execution_count": null,
      "outputs": [
        {
          "output_type": "stream",
          "name": "stdout",
          "text": [
            "iron man\n",
            "thor\n",
            "hulk\n"
          ]
        }
      ]
    },
    {
      "cell_type": "code",
      "source": [
        "x=y=z=1\n",
        "print(x)\n",
        "print(y)\n",
        "print(z)\n",
        "#mutiple variables  the same data\n",
        "#python is case sensitive meaning you have to call a variable how you have named it\n"
      ],
      "metadata": {
        "colab": {
          "base_uri": "https://localhost:8080/"
        },
        "id": "qoSz8BhsxYWB",
        "outputId": "e5ff2eb7-5621-4ef2-a2dd-43b1b5077e37"
      },
      "execution_count": null,
      "outputs": [
        {
          "output_type": "stream",
          "name": "stdout",
          "text": [
            "1\n",
            "1\n",
            "1\n"
          ]
        }
      ]
    },
    {
      "cell_type": "markdown",
      "source": [
        "#input Funtion"
      ],
      "metadata": {
        "id": "gmF6tBz7y4DA"
      }
    },
    {
      "cell_type": "code",
      "source": [
        "number_1 =int(input(\"Enter the first number :\"))\n",
        "number_2 =int(input(\"Enter the second number :\"))\n",
        "#when using the input funtion it assumes that the given value is a string to fix this inlcude int to get sum\n",
        "sum = number_1 + number_2\n",
        "print(sum)"
      ],
      "metadata": {
        "colab": {
          "base_uri": "https://localhost:8080/"
        },
        "id": "NIhEoWgiyvGh",
        "outputId": "fdfab7c3-c04b-4860-dfe8-79b83eac6439"
      },
      "execution_count": null,
      "outputs": [
        {
          "output_type": "stream",
          "name": "stdout",
          "text": [
            "Enter the first number :233\n",
            "Enter the second number :23\n",
            "256\n"
          ]
        }
      ]
    },
    {
      "cell_type": "code",
      "source": [
        "#changing the datatype\n",
        "num = 5\n",
        "float(num)"
      ],
      "metadata": {
        "colab": {
          "base_uri": "https://localhost:8080/"
        },
        "id": "8ucNEjH8zQl5",
        "outputId": "2cdd5a0b-f979-4b14-e6b8-ecad7b4c824d"
      },
      "execution_count": null,
      "outputs": [
        {
          "output_type": "execute_result",
          "data": {
            "text/plain": [
              "5.0"
            ]
          },
          "metadata": {},
          "execution_count": 20
        }
      ]
    },
    {
      "cell_type": "code",
      "source": [],
      "metadata": {
        "id": "r07zm9mh0PJ0"
      },
      "execution_count": null,
      "outputs": []
    }
  ]
}