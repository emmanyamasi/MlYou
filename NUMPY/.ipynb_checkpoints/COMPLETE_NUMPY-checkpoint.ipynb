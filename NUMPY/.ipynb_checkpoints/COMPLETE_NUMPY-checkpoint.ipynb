{
 "cells": [
  {
   "cell_type": "code",
   "execution_count": null,
   "metadata": {
    "id": "sH338x6NzbOz"
   },
   "outputs": [],
   "source": []
  },
  {
   "cell_type": "markdown",
   "metadata": {
    "id": "wVw14XriUiNi"
   },
   "source": [
    "Numpy -Numerical Python\n",
    "\n",
    "Advantages of Numpy Arrays\n",
    "\n",
    "\n",
    "1.Allows  several   mathematical Operations\n",
    "\n",
    "\n",
    "2.Faster Operations\n"
   ]
  },
  {
   "cell_type": "code",
   "execution_count": null,
   "metadata": {
    "id": "9-mKt65kU0RQ"
   },
   "outputs": [],
   "source": [
    "import numpy as np\n"
   ]
  },
  {
   "cell_type": "code",
   "execution_count": null,
   "metadata": {
    "id": "b3WfYPJEVObk"
   },
   "outputs": [],
   "source": []
  },
  {
   "cell_type": "markdown",
   "metadata": {
    "id": "djk2ZeCnVrG1"
   },
   "source": [
    "List vs Numpy-Time Taken"
   ]
  },
  {
   "cell_type": "code",
   "execution_count": null,
   "metadata": {
    "id": "6aYTV9eIVw0R"
   },
   "outputs": [],
   "source": [
    "from time import process_time\n"
   ]
  },
  {
   "cell_type": "code",
   "execution_count": null,
   "metadata": {
    "id": "3DO9ragvV2fX"
   },
   "outputs": [],
   "source": []
  },
  {
   "cell_type": "markdown",
   "metadata": {
    "id": "LnmqSROyV5ag"
   },
   "source": [
    "Time taken by  a list"
   ]
  },
  {
   "cell_type": "code",
   "execution_count": null,
   "metadata": {
    "colab": {
     "base_uri": "https://localhost:8080/"
    },
    "id": "XP8IewvSV9KG",
    "outputId": "bd59204e-d957-4973-85c8-01918a2fda0b"
   },
   "outputs": [
    {
     "name": "stdout",
     "output_type": "stream",
     "text": [
      "0.0016056529999999292\n"
     ]
    }
   ],
   "source": [
    "python_list =[i  for i in range(10000)]\n",
    "start_time = process_time()\n",
    "python_list =[i+5 for i in python_list]\n",
    "end_time =process_time()\n",
    "print(end_time-start_time)"
   ]
  },
  {
   "cell_type": "code",
   "execution_count": null,
   "metadata": {
    "colab": {
     "base_uri": "https://localhost:8080/"
    },
    "id": "kEZXzCYgWnbr",
    "outputId": "1e4a09a6-bbe6-48c3-c246-cda77e76c392"
   },
   "outputs": [
    {
     "name": "stdout",
     "output_type": "stream",
     "text": [
      "0.0005781529999997481\n"
     ]
    }
   ],
   "source": [
    "#now numpy array adding 5\n",
    "np_array = np.array([i for i in range(100000)])\n",
    "start_time = process_time()\n",
    "np_array+=5\n",
    "end_time =process_time()\n",
    "print(end_time-start_time)"
   ]
  },
  {
   "cell_type": "markdown",
   "metadata": {
    "id": "YmUD3rRvXXlN"
   },
   "source": [
    "Numpy Arraya"
   ]
  },
  {
   "cell_type": "code",
   "execution_count": null,
   "metadata": {
    "colab": {
     "base_uri": "https://localhost:8080/"
    },
    "id": "iDNYnUDiXIX6",
    "outputId": "d1f96ab4-6be9-41b6-d479-ecab14c7831b"
   },
   "outputs": [
    {
     "name": "stdout",
     "output_type": "stream",
     "text": [
      "[1, 2, 3, 4, 5]\n"
     ]
    },
    {
     "data": {
      "text/plain": [
       "list"
      ]
     },
     "execution_count": 6,
     "metadata": {},
     "output_type": "execute_result"
    }
   ],
   "source": [
    "#list\n",
    "list1 =[1,2,3,4,5]\n",
    "print(list1)\n",
    "type(list1)"
   ]
  },
  {
   "cell_type": "code",
   "execution_count": null,
   "metadata": {
    "colab": {
     "base_uri": "https://localhost:8080/"
    },
    "id": "SvaRDh3sXmMo",
    "outputId": "147d87fa-1373-40a0-f6a8-67d7305376c5"
   },
   "outputs": [
    {
     "name": "stdout",
     "output_type": "stream",
     "text": [
      "[1 2 3 4 5]\n"
     ]
    },
    {
     "data": {
      "text/plain": [
       "numpy.ndarray"
      ]
     },
     "execution_count": 7,
     "metadata": {},
     "output_type": "execute_result"
    }
   ],
   "source": [
    "np_array = np.array([1,2,3,4,5])\n",
    "print(np_array)\n",
    "type(np_array)\n",
    "\n"
   ]
  },
  {
   "cell_type": "code",
   "execution_count": null,
   "metadata": {
    "colab": {
     "base_uri": "https://localhost:8080/"
    },
    "id": "AzyaM1zTX23h",
    "outputId": "ce6d4dab-a368-412d-d8a2-d37067fce82f"
   },
   "outputs": [
    {
     "name": "stdout",
     "output_type": "stream",
     "text": [
      "[1 2 3 4]\n"
     ]
    },
    {
     "data": {
      "text/plain": [
       "(4,)"
      ]
     },
     "execution_count": 8,
     "metadata": {},
     "output_type": "execute_result"
    }
   ],
   "source": [
    "#creating a one dimensional  array\n",
    "a = np.array([1,2,3,4])\n",
    "print(a)\n",
    "a.shape #4 represents 4 columns"
   ]
  },
  {
   "cell_type": "code",
   "execution_count": null,
   "metadata": {
    "colab": {
     "base_uri": "https://localhost:8080/"
    },
    "id": "jr_fOSQNYIY1",
    "outputId": "9004c7cf-787c-4daa-9677-1b233b733dba"
   },
   "outputs": [
    {
     "name": "stdout",
     "output_type": "stream",
     "text": [
      "[[1 2 3 4]\n",
      " [5 6 7 8]]\n"
     ]
    },
    {
     "data": {
      "text/plain": [
       "(2, 4)"
      ]
     },
     "execution_count": 9,
     "metadata": {},
     "output_type": "execute_result"
    }
   ],
   "source": [
    "#2 dimensional\n",
    "b =np.array([(1,2,3,4),(5,6,7,8)])\n",
    "print(b)\n",
    "b.shape#2 rows 4columna"
   ]
  },
  {
   "cell_type": "code",
   "execution_count": null,
   "metadata": {
    "colab": {
     "base_uri": "https://localhost:8080/"
    },
    "id": "BRL-63j-Yeuw",
    "outputId": "841b1679-7cf6-4fc0-c56b-8ef1aae8c797"
   },
   "outputs": [
    {
     "name": "stdout",
     "output_type": "stream",
     "text": [
      "[[1. 2. 3. 4.]\n",
      " [5. 6. 7. 8.]]\n"
     ]
    }
   ],
   "source": [
    "c =np.array([(1,2,3,4),(5,6,7,8)],dtype=float)\n",
    "print(c)#float values"
   ]
  },
  {
   "cell_type": "code",
   "execution_count": null,
   "metadata": {
    "id": "yTSeKSwYZQwg"
   },
   "outputs": [],
   "source": []
  },
  {
   "cell_type": "markdown",
   "metadata": {
    "id": "5kg2cGtMZZ7x"
   },
   "source": [
    "Initial Placeholders in numpy  arrays"
   ]
  },
  {
   "cell_type": "code",
   "execution_count": null,
   "metadata": {
    "colab": {
     "base_uri": "https://localhost:8080/"
    },
    "id": "evLe9M8jZhfl",
    "outputId": "2aba3540-a285-4133-a815-fb7f017a64ec"
   },
   "outputs": [
    {
     "name": "stdout",
     "output_type": "stream",
     "text": [
      "[[0. 0. 0. 0. 0.]\n",
      " [0. 0. 0. 0. 0.]\n",
      " [0. 0. 0. 0. 0.]\n",
      " [0. 0. 0. 0. 0.]]\n"
     ]
    }
   ],
   "source": [
    "#create a numpy  array of Zeroes\n",
    "x =np.zeros((4,5))\n",
    "print(x)"
   ]
  },
  {
   "cell_type": "code",
   "execution_count": null,
   "metadata": {
    "colab": {
     "base_uri": "https://localhost:8080/"
    },
    "id": "dg9hhCzJZuQz",
    "outputId": "350785aa-ca1c-4870-c64e-9062167ad692"
   },
   "outputs": [
    {
     "name": "stdout",
     "output_type": "stream",
     "text": [
      "[[1. 1. 1.]\n",
      " [1. 1. 1.]\n",
      " [1. 1. 1.]]\n"
     ]
    }
   ],
   "source": [
    "#create a numpy array  of ones\n",
    "y = np.ones((3,3))\n",
    "print(y)"
   ]
  },
  {
   "cell_type": "code",
   "execution_count": null,
   "metadata": {
    "colab": {
     "base_uri": "https://localhost:8080/"
    },
    "id": "D--LtNVQccJc",
    "outputId": "3a6c7ac9-bb75-4421-f141-31abaff6f463"
   },
   "outputs": [
    {
     "name": "stdout",
     "output_type": "stream",
     "text": [
      "[[5 5 5 5]\n",
      " [5 5 5 5]\n",
      " [5 5 5 5]\n",
      " [5 5 5 5]\n",
      " [5 5 5 5]]\n"
     ]
    }
   ],
   "source": [
    "#array  of  a particular  value\n",
    "z = np.full((5,4),5)\n",
    "print(z)"
   ]
  },
  {
   "cell_type": "code",
   "execution_count": null,
   "metadata": {
    "colab": {
     "base_uri": "https://localhost:8080/"
    },
    "id": "5buLOGzFcyWL",
    "outputId": "cdb9e51e-a2dd-45ef-8733-c8193c7c1c25"
   },
   "outputs": [
    {
     "name": "stdout",
     "output_type": "stream",
     "text": [
      "[[1. 0. 0. 0.]\n",
      " [0. 1. 0. 0.]\n",
      " [0. 0. 1. 0.]\n",
      " [0. 0. 0. 1.]]\n"
     ]
    }
   ],
   "source": [
    "#create an identity matrix  diagonal values are one   rest are zeros\n",
    "a = np.eye(4)\n",
    "print(a)"
   ]
  },
  {
   "cell_type": "code",
   "execution_count": null,
   "metadata": {
    "colab": {
     "base_uri": "https://localhost:8080/"
    },
    "id": "WXXOh87wdJhB",
    "outputId": "8cc4e4ee-c285-48bd-b7b7-39b20f4f775b"
   },
   "outputs": [
    {
     "name": "stdout",
     "output_type": "stream",
     "text": [
      "[[0.33066697 0.40416467 0.84740972 0.5931778 ]\n",
      " [0.1957171  0.83452141 0.23617441 0.50183894]\n",
      " [0.32007168 0.4221016  0.66768043 0.00545348]]\n"
     ]
    }
   ],
   "source": [
    "#create a  numpy array with random values all values betwn 0-1\n",
    "\n",
    "b = np.random.random((3,4))\n",
    "print(b)"
   ]
  },
  {
   "cell_type": "code",
   "execution_count": null,
   "metadata": {
    "colab": {
     "base_uri": "https://localhost:8080/"
    },
    "id": "ddvfaGtPddwD",
    "outputId": "8aa99b0f-7f69-49e7-80af-c5bb5ed57498"
   },
   "outputs": [
    {
     "name": "stdout",
     "output_type": "stream",
     "text": [
      "[[11 24 95 55 60]\n",
      " [34 18 45 66 82]\n",
      " [69 18 84 12 77]]\n"
     ]
    }
   ],
   "source": [
    "#random integer values array within a specific range\n",
    "c = np.random.randint(10,100,(3,5))\n",
    "print(c)"
   ]
  },
  {
   "cell_type": "code",
   "execution_count": null,
   "metadata": {
    "colab": {
     "base_uri": "https://localhost:8080/"
    },
    "id": "AZrO_OKYd2cQ",
    "outputId": "418e68b8-a72d-4609-e638-3c995fcd072d"
   },
   "outputs": [
    {
     "name": "stdout",
     "output_type": "stream",
     "text": [
      "[10. 15. 20. 25. 30.]\n"
     ]
    }
   ],
   "source": [
    "#array of evenly spaced values -5 values evenly spaced  between 10-30\n",
    "\n",
    "d = np.linspace(10,30,5)\n",
    "print(d)"
   ]
  },
  {
   "cell_type": "code",
   "execution_count": null,
   "metadata": {
    "colab": {
     "base_uri": "https://localhost:8080/"
    },
    "id": "X_usYaJzeJgc",
    "outputId": "07806f80-0281-4477-fa85-b6dabc1c6964"
   },
   "outputs": [
    {
     "name": "stdout",
     "output_type": "stream",
     "text": [
      "[10 14 18 22 26]\n"
     ]
    }
   ],
   "source": [
    "# array of evenly spaced  values --specifiying  the steps-4\n",
    "\n",
    "e = np.arange(10,30,4)\n",
    "print(e)\n"
   ]
  },
  {
   "cell_type": "code",
   "execution_count": null,
   "metadata": {
    "colab": {
     "base_uri": "https://localhost:8080/"
    },
    "id": "-zHD36Vvejq7",
    "outputId": "a61e3554-4462-4cf7-8243-113b9f274c7d"
   },
   "outputs": [
    {
     "name": "stdout",
     "output_type": "stream",
     "text": [
      "[12 13 14 15]\n"
     ]
    },
    {
     "data": {
      "text/plain": [
       "numpy.ndarray"
      ]
     },
     "execution_count": 20,
     "metadata": {},
     "output_type": "execute_result"
    }
   ],
   "source": [
    "# convert a list to an array\n",
    "list2 =[12,13,14,15]\n",
    "np_array = np.asarray(list2)\n",
    "print(np_array)\n",
    "type(np_array)"
   ]
  },
  {
   "cell_type": "code",
   "execution_count": null,
   "metadata": {
    "id": "YwEJ0OTOfEah"
   },
   "outputs": [],
   "source": []
  },
  {
   "cell_type": "markdown",
   "metadata": {
    "id": "d3aLDyJnfUTM"
   },
   "source": [
    "Analysing a numpy array\n"
   ]
  },
  {
   "cell_type": "code",
   "execution_count": null,
   "metadata": {
    "colab": {
     "base_uri": "https://localhost:8080/"
    },
    "id": "qf2GnIyhfY_P",
    "outputId": "a50c1a63-e997-45ff-8e18-33492193004e"
   },
   "outputs": [
    {
     "name": "stdout",
     "output_type": "stream",
     "text": [
      "[[60 45 19 24 60]\n",
      " [47 55 40 62 58]\n",
      " [34 74 55 83 54]\n",
      " [47 65 86 48 31]\n",
      " [83 33 74 60 50]]\n"
     ]
    }
   ],
   "source": [
    "c = np.random.randint(10,90,(5,5))\n",
    "print(c)"
   ]
  },
  {
   "cell_type": "code",
   "execution_count": null,
   "metadata": {
    "colab": {
     "base_uri": "https://localhost:8080/"
    },
    "id": "zDpgel59fhEz",
    "outputId": "6fc9171e-3ccf-4a89-debc-0f1aed0de25d"
   },
   "outputs": [
    {
     "name": "stdout",
     "output_type": "stream",
     "text": [
      "(5, 5)\n"
     ]
    }
   ],
   "source": [
    "#array dimension\n",
    "print(c.shape)"
   ]
  },
  {
   "cell_type": "code",
   "execution_count": null,
   "metadata": {
    "colab": {
     "base_uri": "https://localhost:8080/"
    },
    "id": "vw6ypv8Zfutu",
    "outputId": "d7b59b35-ccf9-4108-81f1-be922efbc979"
   },
   "outputs": [
    {
     "name": "stdout",
     "output_type": "stream",
     "text": [
      "2\n"
     ]
    }
   ],
   "source": [
    "#number of dimensions -2d rows and columns\n",
    "print(c.ndim)"
   ]
  },
  {
   "cell_type": "code",
   "execution_count": null,
   "metadata": {
    "colab": {
     "base_uri": "https://localhost:8080/"
    },
    "id": "Saxlq0R3f71v",
    "outputId": "91fe4f5a-4b44-43f7-8f0a-4f54da5859ad"
   },
   "outputs": [
    {
     "name": "stdout",
     "output_type": "stream",
     "text": [
      "25\n"
     ]
    }
   ],
   "source": [
    "#number of elements in array\n",
    "print(c.size)"
   ]
  },
  {
   "cell_type": "code",
   "execution_count": null,
   "metadata": {
    "colab": {
     "base_uri": "https://localhost:8080/"
    },
    "id": "MocpvPpggBJK",
    "outputId": "73410f68-0cb0-4203-db1a-3f36b0a7f099"
   },
   "outputs": [
    {
     "name": "stdout",
     "output_type": "stream",
     "text": [
      "int64\n"
     ]
    }
   ],
   "source": [
    "#checking datatype\n",
    "print(c.dtype)"
   ]
  },
  {
   "cell_type": "code",
   "execution_count": null,
   "metadata": {
    "id": "i22w3t4zgF81"
   },
   "outputs": [],
   "source": []
  },
  {
   "cell_type": "markdown",
   "metadata": {
    "id": "eatKUO7ugJWT"
   },
   "source": [
    "Mathemetical operations  on a np array"
   ]
  },
  {
   "cell_type": "code",
   "execution_count": null,
   "metadata": {
    "colab": {
     "base_uri": "https://localhost:8080/"
    },
    "id": "kTBAkjzjgNc4",
    "outputId": "0a91fe1e-ffa6-43ce-dc12-fb722352d4be"
   },
   "outputs": [
    {
     "name": "stdout",
     "output_type": "stream",
     "text": [
      "[1, 2, 3, 4, 5, 6, 7, 8, 9, 10]\n"
     ]
    }
   ],
   "source": [
    "list1 =[1,2,3,4,5]\n",
    "list2 = [6,7,8,9,10]\n",
    "print(list1+list2)#concatnates 2 lists\n"
   ]
  },
  {
   "cell_type": "code",
   "execution_count": null,
   "metadata": {
    "id": "AcIYmbG6gbI2"
   },
   "outputs": [],
   "source": [
    "a  = np.random.randint(0,10,(3,3))\n",
    "b = np.random.randint(10,20,(3,3))"
   ]
  },
  {
   "cell_type": "code",
   "execution_count": null,
   "metadata": {
    "colab": {
     "base_uri": "https://localhost:8080/"
    },
    "id": "aj0GGJxIg3ve",
    "outputId": "9c706b82-b540-481a-f3e5-27d57f300ae3"
   },
   "outputs": [
    {
     "name": "stdout",
     "output_type": "stream",
     "text": [
      "[[2 9 5]\n",
      " [4 2 7]\n",
      " [9 1 6]]\n",
      "[[12 14 17]\n",
      " [19 10 13]\n",
      " [17 19 16]]\n"
     ]
    }
   ],
   "source": [
    "print(a)\n",
    "print(b)"
   ]
  },
  {
   "cell_type": "code",
   "execution_count": null,
   "metadata": {
    "colab": {
     "base_uri": "https://localhost:8080/"
    },
    "id": "2W2oLhLOg7FQ",
    "outputId": "de783fd8-c103-47cf-fa26-f40cd7729828"
   },
   "outputs": [
    {
     "name": "stdout",
     "output_type": "stream",
     "text": [
      "[[14 23 22]\n",
      " [23 12 20]\n",
      " [26 20 22]]\n",
      "[[-10  -5 -12]\n",
      " [-15  -8  -6]\n",
      " [ -8 -18 -10]]\n",
      "[[ 24 126  85]\n",
      " [ 76  20  91]\n",
      " [153  19  96]]\n",
      "[[0.16666667 0.64285714 0.29411765]\n",
      " [0.21052632 0.2        0.53846154]\n",
      " [0.52941176 0.05263158 0.375     ]]\n"
     ]
    }
   ],
   "source": [
    "print(a+b)\n",
    "print(a-b)\n",
    "print(a*b)\n",
    "print(a/b)"
   ]
  },
  {
   "cell_type": "code",
   "execution_count": null,
   "metadata": {
    "colab": {
     "base_uri": "https://localhost:8080/"
    },
    "id": "fK9qDOCJg_q9",
    "outputId": "2f7c2ceb-fa1f-447a-d938-e602b5a93eee"
   },
   "outputs": [
    {
     "name": "stdout",
     "output_type": "stream",
     "text": [
      "[[14 23 22]\n",
      " [23 12 20]\n",
      " [26 20 22]]\n"
     ]
    }
   ],
   "source": [
    "print(np.add(a,b))"
   ]
  },
  {
   "cell_type": "code",
   "execution_count": null,
   "metadata": {
    "colab": {
     "base_uri": "https://localhost:8080/"
    },
    "id": "8XpPVkRwhQ5m",
    "outputId": "d883c35a-b0df-4eb9-c66a-2373111868a7"
   },
   "outputs": [
    {
     "name": "stdout",
     "output_type": "stream",
     "text": [
      "[[-10  -5 -12]\n",
      " [-15  -8  -6]\n",
      " [ -8 -18 -10]]\n"
     ]
    }
   ],
   "source": [
    "print(np.subtract(a,b))"
   ]
  },
  {
   "cell_type": "code",
   "execution_count": null,
   "metadata": {
    "colab": {
     "base_uri": "https://localhost:8080/"
    },
    "id": "AVTeleKWhfLi",
    "outputId": "e18adb80-90e7-4221-b4c9-091e0543988b"
   },
   "outputs": [
    {
     "name": "stdout",
     "output_type": "stream",
     "text": [
      "[[ 24 126  85]\n",
      " [ 76  20  91]\n",
      " [153  19  96]]\n"
     ]
    }
   ],
   "source": [
    "print(np.multiply(a,b))"
   ]
  },
  {
   "cell_type": "code",
   "execution_count": null,
   "metadata": {
    "colab": {
     "base_uri": "https://localhost:8080/"
    },
    "id": "5kMLC6RMhi6N",
    "outputId": "32d7c6a6-5210-47c5-a7b2-4a50f261b457"
   },
   "outputs": [
    {
     "name": "stdout",
     "output_type": "stream",
     "text": [
      "[[0.16666667 0.64285714 0.29411765]\n",
      " [0.21052632 0.2        0.53846154]\n",
      " [0.52941176 0.05263158 0.375     ]]\n"
     ]
    }
   ],
   "source": [
    "print(np.divide(a,b\n",
    "          ))"
   ]
  },
  {
   "cell_type": "code",
   "execution_count": null,
   "metadata": {
    "id": "jAwz2Xe6hoCc"
   },
   "outputs": [],
   "source": []
  },
  {
   "cell_type": "markdown",
   "metadata": {
    "id": "JBgjmKOThpXa"
   },
   "source": [
    "Array manipulation"
   ]
  },
  {
   "cell_type": "code",
   "execution_count": null,
   "metadata": {
    "colab": {
     "base_uri": "https://localhost:8080/"
    },
    "id": "icoePmFghrxP",
    "outputId": "f0ac775a-81b4-476d-bf73-36565fa21313"
   },
   "outputs": [
    {
     "name": "stdout",
     "output_type": "stream",
     "text": [
      "[[8 0 7]\n",
      " [4 0 9]]\n",
      "(2, 3)\n"
     ]
    }
   ],
   "source": [
    "array = np.random.randint(0,10,(2,3))\n",
    "print(array)\n",
    "print(array.shape)"
   ]
  },
  {
   "cell_type": "code",
   "execution_count": null,
   "metadata": {
    "colab": {
     "base_uri": "https://localhost:8080/"
    },
    "id": "wor6b_K-h0fr",
    "outputId": "e9b61e25-d320-4981-87a2-65a1821655c1"
   },
   "outputs": [
    {
     "name": "stdout",
     "output_type": "stream",
     "text": [
      "[[8 4]\n",
      " [0 0]\n",
      " [7 9]]\n",
      "(3, 2)\n"
     ]
    }
   ],
   "source": [
    "#transpose rows to columns and columns to rows\n",
    "\n",
    "trans = np.transpose(array)\n",
    "print(trans)\n",
    "print(trans.shape)"
   ]
  },
  {
   "cell_type": "code",
   "execution_count": null,
   "metadata": {
    "colab": {
     "base_uri": "https://localhost:8080/"
    },
    "id": "1o9xlkeXiHnj",
    "outputId": "1279c2be-3960-4e95-b0ff-389df6fd806d"
   },
   "outputs": [
    {
     "name": "stdout",
     "output_type": "stream",
     "text": [
      "[[8 4]\n",
      " [0 0]\n",
      " [7 9]]\n",
      "(3, 2)\n"
     ]
    }
   ],
   "source": [
    "trans2 = array.T\n",
    "print(trans2)\n",
    "print(trans2.shape)"
   ]
  },
  {
   "cell_type": "code",
   "execution_count": null,
   "metadata": {
    "colab": {
     "base_uri": "https://localhost:8080/"
    },
    "id": "SaizzcfKiTNX",
    "outputId": "1522fc25-5885-40f9-bf90-074be7555bb2"
   },
   "outputs": [
    {
     "name": "stdout",
     "output_type": "stream",
     "text": [
      "[[2 6 6]\n",
      " [0 1 4]]\n",
      "(2, 3)\n"
     ]
    }
   ],
   "source": [
    "#reshaping  a array\n",
    "\n",
    "a = np.random.randint(0,10,(2,3))\n",
    "print(a)\n",
    "print(a.shape)"
   ]
  },
  {
   "cell_type": "code",
   "execution_count": null,
   "metadata": {
    "colab": {
     "base_uri": "https://localhost:8080/"
    },
    "id": "2UHg6S-2igCr",
    "outputId": "ef24c26b-6681-404a-9639-4f6c93aaced9"
   },
   "outputs": [
    {
     "name": "stdout",
     "output_type": "stream",
     "text": [
      "[[2 6]\n",
      " [6 0]\n",
      " [1 4]]\n",
      "(3, 2)\n"
     ]
    }
   ],
   "source": [
    "b =a.reshape(3,2)\n",
    "print(b)\n",
    "print(b.shape)"
   ]
  },
  {
   "cell_type": "code",
   "execution_count": null,
   "metadata": {
    "id": "JuwK7OgOirKP"
   },
   "outputs": [],
   "source": []
  }
 ],
 "metadata": {
  "colab": {
   "provenance": []
  },
  "kernelspec": {
   "display_name": "Python 3 (ipykernel)",
   "language": "python",
   "name": "python3"
  },
  "language_info": {
   "codemirror_mode": {
    "name": "ipython",
    "version": 3
   },
   "file_extension": ".py",
   "mimetype": "text/x-python",
   "name": "python",
   "nbconvert_exporter": "python",
   "pygments_lexer": "ipython3",
   "version": "3.9.13"
  }
 },
 "nbformat": 4,
 "nbformat_minor": 1
}
